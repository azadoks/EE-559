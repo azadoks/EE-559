{
 "metadata": {
  "language_info": {
   "codemirror_mode": {
    "name": "ipython",
    "version": 3
   },
   "file_extension": ".py",
   "mimetype": "text/x-python",
   "name": "python",
   "nbconvert_exporter": "python",
   "pygments_lexer": "ipython3",
   "version": "3.7.9"
  },
  "orig_nbformat": 2,
  "kernelspec": {
   "name": "python379jvsc74a57bd0aaa84ee533b690964f178989ab023a6f60be1f896694c6d986c0a3f23e05566a",
   "display_name": "Python 3.7.9 64-bit ('ee-559': conda)"
  }
 },
 "nbformat": 4,
 "nbformat_minor": 2,
 "cells": [
  {
   "cell_type": "code",
   "execution_count": 3,
   "metadata": {},
   "outputs": [
    {
     "output_type": "stream",
     "name": "stderr",
     "text": [
      "usage: ipykernel_launcher.py [-h] [--full] [--tiny] [--seed SEED] [--cifar]\n                             [--data_dir DATA_DIR] [-f FILE]\nipykernel_launcher.py: error: ambiguous option: --f=/var/folders/4q/hjv_t3zj58nc18y2zs9lr_v40000gn/T/tmp-10637BRYoA4wp2Yha.json could match --full, --file\n"
     ]
    },
    {
     "output_type": "error",
     "ename": "SystemExit",
     "evalue": "2",
     "traceback": [
      "An exception has occurred, use %tb to see the full traceback.\n",
      "\u001b[0;31mSystemExit\u001b[0m\u001b[0;31m:\u001b[0m 2\n"
     ]
    }
   ],
   "source": [
    "import torch\n",
    "from torch import nn \n",
    "\n",
    "import test"
   ]
  },
  {
   "cell_type": "code",
   "execution_count": null,
   "metadata": {},
   "outputs": [],
   "source": [
    "trn_inp, trn_out, trn_cls, tst_inp, tst_out, tst_cls = main()"
   ]
  }
 ]
}