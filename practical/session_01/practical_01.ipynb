{
 "metadata": {
  "language_info": {
   "codemirror_mode": {
    "name": "ipython",
    "version": 3
   },
   "file_extension": ".py",
   "mimetype": "text/x-python",
   "name": "python",
   "nbconvert_exporter": "python",
   "pygments_lexer": "ipython3",
   "version": "3.7.9-final"
  },
  "orig_nbformat": 2,
  "kernelspec": {
   "name": "python3",
   "display_name": "Python 3.7.9 64-bit ('ee-559': conda)",
   "metadata": {
    "interpreter": {
     "hash": "aaa84ee533b690964f178989ab023a6f60be1f896694c6d986c0a3f23e05566a"
    }
   }
  }
 },
 "nbformat": 4,
 "nbformat_minor": 2,
 "cells": [
  {
   "cell_type": "code",
   "execution_count": 1,
   "metadata": {},
   "outputs": [],
   "source": [
    "import tabulate\n",
    "import time\n",
    "\n",
    "import torch"
   ]
  },
  {
   "source": [
    "# Deep Learning Practical Session 1\n",
    "\n",
    "EE-559\n",
    "\n",
    "February 24, 2021\n",
    "\n",
    "Austin Zadoks"
   ],
   "cell_type": "markdown",
   "metadata": {}
  },
  {
   "source": [
    "## Multiple views of a storage"
   ],
   "cell_type": "markdown",
   "metadata": {}
  },
  {
   "cell_type": "code",
   "execution_count": 9,
   "metadata": {},
   "outputs": [
    {
     "output_type": "stream",
     "name": "stdout",
     "text": [
      "1  2  1  1  1  1  2  1  1  1  1  2  1\n2  2  2  2  2  2  2  2  2  2  2  2  2\n1  2  1  1  1  1  2  1  1  1  1  2  1\n1  2  1  3  3  1  2  1  3  3  1  2  1\n1  2  1  3  3  1  2  1  3  3  1  2  1\n1  2  1  1  1  1  2  1  1  1  1  2  1\n2  2  2  2  2  2  2  2  2  2  2  2  2\n1  2  1  1  1  1  2  1  1  1  1  2  1\n1  2  1  3  3  1  2  1  3  3  1  2  1\n1  2  1  3  3  1  2  1  3  3  1  2  1\n1  2  1  1  1  1  2  1  1  1  1  2  1\n2  2  2  2  2  2  2  2  2  2  2  2  2\n1  2  1  1  1  1  2  1  1  1  1  2  1\n"
     ]
    }
   ],
   "source": [
    "# 13x13 tensor filled with ones\n",
    "m = torch.full((13, 13), 1, dtype=torch.int)\n",
    "\n",
    "# Rows of twos starting with second row, every five rows\n",
    "m[1::5, :] = 2\n",
    "# Columns of twos starting with second column, every five columns\n",
    "m[:, 1::5] = 2\n",
    "\n",
    "# 2x2 areas of threes at intersections of (fourth and fifth) and (ninth and tenth) rows and columns\n",
    "m[3:5, 3:5] = 3\n",
    "m[3:5, 8:10] = 3\n",
    "m[8:10, 3:5] = 3\n",
    "m[8:10, 8:10] = 3\n",
    "\n",
    "# Nice printing to match exercise statement\n",
    "print(tabulate.tabulate(m, tablefmt='plain'))"
   ]
  },
  {
   "source": [
    "## Eigendecomposition"
   ],
   "cell_type": "markdown",
   "metadata": {}
  },
  {
   "cell_type": "code",
   "execution_count": 10,
   "metadata": {},
   "outputs": [
    {
     "output_type": "stream",
     "name": "stdout",
     "text": [
      "      Re    Im\n--------  ----\n20           0\n 1           0\n19           0\n 1.99999     0\n18           0\n 3           0\n 4           0\n17           0\n 5           0\n16           0\n 6.00001     0\n 7           0\n15           0\n14           0\n13           0\n 8           0\n12           0\n11           0\n10           0\n 9           0\n"
     ]
    }
   ],
   "source": [
    "size = 20\n",
    "\n",
    "diag_m = torch.diag(torch.arange(1, size + 1, dtype=torch.float))\n",
    "gauss_m = torch.empty((size, size)).normal_()\n",
    "gauss_m_inv = torch.inverse(gauss_m)\n",
    "mat_mul_result = torch.mm(torch.mm(gauss_m_inv, diag_m), gauss_m)\n",
    "eig_result = torch.eig(mat_mul_result)\n",
    "\n",
    "print(tabulate.tabulate(eig_result.eigenvalues, headers=('Re', 'Im'), tablefmt='simple'))"
   ]
  },
  {
   "source": [
    "## Flops per second"
   ],
   "cell_type": "markdown",
   "metadata": {}
  },
  {
   "cell_type": "code",
   "execution_count": 11,
   "metadata": {},
   "outputs": [
    {
     "output_type": "stream",
     "name": "stdout",
     "text": [
      "1.530454e+11 FLOPS per second\n"
     ]
    }
   ],
   "source": [
    "size = 5000\n",
    "\n",
    "# Generate matrices\n",
    "m1 = torch.empty((size, size)).normal_()\n",
    "m2 = torch.empty((size, size)).normal_()\n",
    "\n",
    "# Record initial and final time for multiplication\n",
    "t0 = time.perf_counter()\n",
    "mm_result = torch.mm(m1, m2)\n",
    "t1 = time.perf_counter()\n",
    "\n",
    "# Matrix multipliciation takes (A_ncol * A_nrow * B_nrow) operations\n",
    "n_ops = size ** 3\n",
    "flops_s = n_ops / (t1 - t0)\n",
    "\n",
    "print(f'{flops_s:0.6e} FLOPS per second')"
   ]
  },
  {
   "source": [
    "## Playing with strides"
   ],
   "cell_type": "markdown",
   "metadata": {}
  },
  {
   "cell_type": "code",
   "execution_count": 13,
   "metadata": {},
   "outputs": [],
   "source": [
    "def mul_row(m):\n",
    "    result = m.clone()\n",
    "    size = m.size()\n",
    "    for i in range(size[0]):\n",
    "        for j in range(size[1]):\n",
    "            result[i, j] *= i + 1\n",
    "    return result\n",
    "\n",
    "def mul_row_fast(m):\n",
    "    return m.T.mul(torch.arange(1, m.size()[0] + 1)).T\n",
    "    \n",
    "def mul_row_faster(m):\n",
    "    row_factors = torch.arange(1, m.size()[0] + 1, dtype=torch.float).reshape(-1, 1)\n",
    "    return m.mul(row_factors)"
   ]
  },
  {
   "cell_type": "code",
   "execution_count": 23,
   "metadata": {},
   "outputs": [
    {
     "output_type": "stream",
     "name": "stdout",
     "text": [
      "`mul_row`\n",
      "CPU times: user 7.33 s, sys: 42.2 ms, total: 7.37 s\n",
      "Wall time: 7.42 s\n",
      "tensor([[   2.,    2.,    2.,  ...,    2.,    2.,    2.],\n",
      "        [   4.,    4.,    4.,  ...,    4.,    4.,    4.],\n",
      "        [   6.,    6.,    6.,  ...,    6.,    6.,    6.],\n",
      "        ...,\n",
      "        [1996., 1996., 1996.,  ..., 1996., 1996., 1996.],\n",
      "        [1998., 1998., 1998.,  ..., 1998., 1998., 1998.],\n",
      "        [2000., 2000., 2000.,  ..., 2000., 2000., 2000.]])\n",
      "`mul_row_fast`\n",
      "98.3 µs ± 4.89 µs per loop (mean ± std. dev. of 7 runs, 10000 loops each)\n",
      "`mul_row_faster`\n",
      "93.2 µs ± 4.91 µs per loop (mean ± std. dev. of 7 runs, 10000 loops each)\n"
     ]
    },
    {
     "output_type": "error",
     "ename": "TypeError",
     "evalue": "eq() received an invalid combination of arguments - got (NoneType), but expected one of:\n * (Tensor other)\n      didn't match because some of the arguments have invalid types: (!NoneType!)\n * (Number other)\n      didn't match because some of the arguments have invalid types: (!NoneType!)\n",
     "traceback": [
      "\u001b[0;31m---------------------------------------------------------------------------\u001b[0m",
      "\u001b[0;31mTypeError\u001b[0m                                 Traceback (most recent call last)",
      "\u001b[0;32m<ipython-input-23-5c4d80e3cb47>\u001b[0m in \u001b[0;36m<module>\u001b[0;34m\u001b[0m\n\u001b[1;32m     11\u001b[0m \u001b[0mmrfr\u001b[0m \u001b[0;34m=\u001b[0m \u001b[0mget_ipython\u001b[0m\u001b[0;34m(\u001b[0m\u001b[0;34m)\u001b[0m\u001b[0;34m.\u001b[0m\u001b[0mrun_line_magic\u001b[0m\u001b[0;34m(\u001b[0m\u001b[0;34m'timeit'\u001b[0m\u001b[0;34m,\u001b[0m \u001b[0;34m'mul_row_faster(m)'\u001b[0m\u001b[0;34m)\u001b[0m\u001b[0;34m\u001b[0m\u001b[0;34m\u001b[0m\u001b[0m\n\u001b[1;32m     12\u001b[0m \u001b[0;34m\u001b[0m\u001b[0m\n\u001b[0;32m---> 13\u001b[0;31m \u001b[0msame_results\u001b[0m \u001b[0;34m=\u001b[0m \u001b[0;34m(\u001b[0m\u001b[0mtorch\u001b[0m\u001b[0;34m.\u001b[0m\u001b[0mall\u001b[0m\u001b[0;34m(\u001b[0m\u001b[0mmr\u001b[0m \u001b[0;34m==\u001b[0m \u001b[0mmrf\u001b[0m\u001b[0;34m)\u001b[0m \u001b[0;32mand\u001b[0m \u001b[0mtorch\u001b[0m\u001b[0;34m.\u001b[0m\u001b[0mall\u001b[0m\u001b[0;34m(\u001b[0m\u001b[0mmrf\u001b[0m \u001b[0;34m==\u001b[0m \u001b[0mmrfr\u001b[0m\u001b[0;34m)\u001b[0m\u001b[0;34m)\u001b[0m\u001b[0;34m.\u001b[0m\u001b[0mitem\u001b[0m\u001b[0;34m\u001b[0m\u001b[0;34m\u001b[0m\u001b[0m\n\u001b[0m\u001b[1;32m     14\u001b[0m \u001b[0mprint\u001b[0m\u001b[0;34m(\u001b[0m\u001b[0;34mf'All results are the same: {same_results}'\u001b[0m\u001b[0;34m)\u001b[0m\u001b[0;34m\u001b[0m\u001b[0;34m\u001b[0m\u001b[0m\n",
      "\u001b[0;31mTypeError\u001b[0m: eq() received an invalid combination of arguments - got (NoneType), but expected one of:\n * (Tensor other)\n      didn't match because some of the arguments have invalid types: (!NoneType!)\n * (Number other)\n      didn't match because some of the arguments have invalid types: (!NoneType!)\n"
     ]
    }
   ],
   "source": [
    "m = torch.full((1000, 400), 2.0)\n",
    "\n",
    "print('`mul_row`')\n",
    "mr = %time mul_row(m)\n",
    "print(mr)\n",
    "\n",
    "print('`mul_row_fast`')\n",
    "mrf = %timeit mul_row_fast(m)\n",
    "\n",
    "print('`mul_row_faster`')\n",
    "mrfr = %timeit mul_row_faster(m)\n",
    "\n",
    "# same_results = (torch.all(mr == mrf) and torch.all(mrf == mrfr)).item\n",
    "# print(f'All results are the same: {same_results}')"
   ]
  },
  {
   "cell_type": "code",
   "execution_count": null,
   "metadata": {},
   "outputs": [],
   "source": []
  }
 ]
}