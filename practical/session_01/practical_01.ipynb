{
 "metadata": {
  "language_info": {
   "codemirror_mode": {
    "name": "ipython",
    "version": 3
   },
   "file_extension": ".py",
   "mimetype": "text/x-python",
   "name": "python",
   "nbconvert_exporter": "python",
   "pygments_lexer": "ipython3",
   "version": "3.7.9-final"
  },
  "orig_nbformat": 2,
  "kernelspec": {
   "name": "python3",
   "display_name": "Python 3.7.9 64-bit ('ee-559': conda)",
   "metadata": {
    "interpreter": {
     "hash": "aaa84ee533b690964f178989ab023a6f60be1f896694c6d986c0a3f23e05566a"
    }
   }
  }
 },
 "nbformat": 4,
 "nbformat_minor": 2,
 "cells": [
  {
   "cell_type": "code",
   "execution_count": 2,
   "metadata": {},
   "outputs": [],
   "source": [
    "import tabulate\n",
    "import time\n",
    "\n",
    "import torch"
   ]
  },
  {
   "source": [
    "# Deep Learning Practical Session 1\n",
    "\n",
    "EE-559\n",
    "\n",
    "February 24, 2021\n",
    "\n",
    "Austin Zadoks"
   ],
   "cell_type": "markdown",
   "metadata": {}
  },
  {
   "source": [
    "## Multiple views of a storage"
   ],
   "cell_type": "markdown",
   "metadata": {}
  },
  {
   "cell_type": "code",
   "execution_count": 91,
   "metadata": {},
   "outputs": [
    {
     "output_type": "stream",
     "name": "stdout",
     "text": [
      "1  2  1  1  1  1  2  1  1  1  1  2  1\n2  2  2  2  2  2  2  2  2  2  2  2  2\n1  2  1  1  1  1  2  1  1  1  1  2  1\n1  2  1  3  3  1  2  1  3  3  1  2  1\n1  2  1  3  3  1  2  1  3  3  1  2  1\n1  2  1  1  1  1  2  1  1  1  1  2  1\n2  2  2  2  2  2  2  2  2  2  2  2  2\n1  2  1  1  1  1  2  1  1  1  1  2  1\n1  2  1  3  3  1  2  1  3  3  1  2  1\n1  2  1  3  3  1  2  1  3  3  1  2  1\n1  2  1  1  1  1  2  1  1  1  1  2  1\n2  2  2  2  2  2  2  2  2  2  2  2  2\n1  2  1  1  1  1  2  1  1  1  1  2  1\n"
     ]
    }
   ],
   "source": [
    "# 13x13 tensor filled with ones\n",
    "m = torch.full((13, 13), 1, dtype=torch.int)\n",
    "\n",
    "# Rows of twos starting with second row, every five rows\n",
    "m[1::5, :] = 2\n",
    "\n",
    "# Columns of twos starting with second column, every five columns\n",
    "m[:, 1::5] = 2\n",
    "\n",
    "# 2x2 areas of threes at intersections of (fourth and fifth) and (ninth and tenth) rows and columns\n",
    "m[3:5, 3:5] = 3\n",
    "m[3:5, 8:10] = 3\n",
    "m[8:10, 3:5] = 3\n",
    "m[8:10, 8:10] = 3\n",
    "\n",
    "# Nice printing to match exercise statement\n",
    "print(tabulate.tabulate(m, tablefmt='plain'))"
   ]
  },
  {
   "source": [
    "## Eigendecomposition"
   ],
   "cell_type": "markdown",
   "metadata": {}
  },
  {
   "cell_type": "code",
   "execution_count": 92,
   "metadata": {},
   "outputs": [
    {
     "output_type": "stream",
     "name": "stdout",
     "text": [
      "     Re      Im\n-------  ------\n 1.0000  0.0000\n 2.0000  0.0000\n 3.0000  0.0000\n 4.0000  0.0000\n 5.0000  0.0000\n 6.0000  0.0000\n 7.0000  0.0000\n 8.0000  0.0000\n 9.0000  0.0000\n10.0000  0.0000\n11.0000  0.0000\n12.0000  0.0000\n13.0000  0.0000\n14.0000  0.0000\n15.0000  0.0000\n16.0000  0.0000\n17.0000  0.0000\n18.0000  0.0000\n19.0000  0.0000\n20.0000  0.0000\n"
     ]
    }
   ],
   "source": [
    "size = 20\n",
    "\n",
    "diag_m = torch.diag(torch.arange(1., size + 1.))  # square diagonal matrix, note: float-type (1.) (D)\n",
    "gauss_m = torch.empty((size, size)).normal_()  # square random normal matrix (M)\n",
    "eigvals, _ = gauss_m.inverse().mm(diag_m).mm(gauss_m).eig()[0].sort(dim=0)  # sort(eigvals(M^-1 D M))\n",
    "\n",
    "print(tabulate.tabulate(eigvals, headers=('Re', 'Im'), floatfmt='.4f'))"
   ]
  },
  {
   "source": [
    "## Flops per second"
   ],
   "cell_type": "markdown",
   "metadata": {}
  },
  {
   "cell_type": "code",
   "execution_count": 40,
   "metadata": {},
   "outputs": [
    {
     "output_type": "stream",
     "name": "stdout",
     "text": [
      "1.565485e+11 [FLOPS] (0.156549 [TFLOPS])\n"
     ]
    }
   ],
   "source": [
    "size = 5000\n",
    "\n",
    "# Generate matrices\n",
    "m1 = torch.empty((size, size)).normal_()\n",
    "m2 = torch.empty((size, size)).normal_()\n",
    "\n",
    "# Record initial and final time for multiplication\n",
    "t0 = time.perf_counter()\n",
    "mm_result = torch.mm(m1, m2)\n",
    "t1 = time.perf_counter()\n",
    "\n",
    "# Matrix multipliciation of (A @ B) takes (A_ncol * A_nrow * B_nrow) operations\n",
    "n_ops = size ** 3\n",
    "flops = n_ops / (t1 - t0)\n",
    "\n",
    "print(f'{flops:0.6e} [FLOPS] ({flops / 1e12:0.6f} [TFLOPS])')"
   ]
  },
  {
   "source": [
    "## Playing with strides"
   ],
   "cell_type": "markdown",
   "metadata": {}
  },
  {
   "cell_type": "code",
   "execution_count": 29,
   "metadata": {},
   "outputs": [],
   "source": [
    "def mul_row(m):\n",
    "    \"\"\"Multiply rows of a matrix by their 1-based index using a Python loop.\"\"\"\n",
    "    result = m.clone()\n",
    "    size = m.size()\n",
    "    for i in range(size[0]):\n",
    "        for j in range(size[1]):\n",
    "            result[i, j] *= i + 1\n",
    "    return result\n",
    "\n",
    "def mul_row_fast(m):\n",
    "    \"\"\"Multiply rows of a matrix by their 1-based index using PyTorch.\"\"\"\n",
    "    c = torch.arange(1, m.size()[0] + 1).view(-1, 1)  # a `column`; c[i] = i + 1\n",
    "    return m.mul(c)"
   ]
  },
  {
   "cell_type": "code",
   "execution_count": 97,
   "metadata": {},
   "outputs": [
    {
     "output_type": "stream",
     "name": "stdout",
     "text": [
      "`mul_row`: 7.4879e+00 [s]\n`mul_row_fast`: 4.5200e-04 [s]\n"
     ]
    }
   ],
   "source": [
    "m = torch.full((1000, 400), 2.0)\n",
    "funcs = [mul_row, mul_row_fast]\n",
    "res = []\n",
    "\n",
    "for func in funcs:\n",
    "    # Time function\n",
    "    t0 = time.perf_counter()\n",
    "    r = func(m)\n",
    "    t1 = time.perf_counter()\n",
    "    # Save result\n",
    "    res.append(r)\n",
    "    # Check result\n",
    "    if not torch.all(r == res[0]):\n",
    "        raise Exception(f'`{func.__name__}`\\'s result does not match the first result')\n",
    "    # Print timing if result matches first result\n",
    "    print(f'`{func.__name__}`: {t1 - t0:0.4e} [s]')"
   ]
  },
  {
   "cell_type": "code",
   "execution_count": null,
   "metadata": {},
   "outputs": [],
   "source": []
  }
 ]
}