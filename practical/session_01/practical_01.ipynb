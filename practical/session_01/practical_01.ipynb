{
 "metadata": {
  "language_info": {
   "codemirror_mode": {
    "name": "ipython",
    "version": 3
   },
   "file_extension": ".py",
   "mimetype": "text/x-python",
   "name": "python",
   "nbconvert_exporter": "python",
   "pygments_lexer": "ipython3",
   "version": "3.7.9-final"
  },
  "orig_nbformat": 2,
  "kernelspec": {
   "name": "python3",
   "display_name": "Python 3.7.9 64-bit",
   "metadata": {
    "interpreter": {
     "hash": "aaa84ee533b690964f178989ab023a6f60be1f896694c6d986c0a3f23e05566a"
    }
   }
  }
 },
 "nbformat": 4,
 "nbformat_minor": 2,
 "cells": [
  {
   "cell_type": "code",
   "execution_count": 8,
   "metadata": {},
   "outputs": [],
   "source": [
    "import tabulate\n",
    "import time\n",
    "\n",
    "import torch"
   ]
  },
  {
   "source": [
    "# Deep Learning Practical Session 1\n",
    "\n",
    "EE-559\n",
    "\n",
    "February 13, 2021\n",
    "\n",
    "Austin Zadoks"
   ],
   "cell_type": "markdown",
   "metadata": {}
  },
  {
   "source": [
    "## Multiple views of a storage"
   ],
   "cell_type": "markdown",
   "metadata": {}
  },
  {
   "cell_type": "code",
   "execution_count": 9,
   "metadata": {},
   "outputs": [
    {
     "output_type": "stream",
     "name": "stdout",
     "text": [
      "1  2  1  1  1  1  2  1  1  1  1  2  1\n2  2  2  2  2  2  2  2  2  2  2  2  2\n1  2  1  1  1  1  2  1  1  1  1  2  1\n1  2  1  3  3  1  2  1  3  3  1  2  1\n1  2  1  3  3  1  2  1  3  3  1  2  1\n1  2  1  1  1  1  2  1  1  1  1  2  1\n2  2  2  2  2  2  2  2  2  2  2  2  2\n1  2  1  1  1  1  2  1  1  1  1  2  1\n1  2  1  3  3  1  2  1  3  3  1  2  1\n1  2  1  3  3  1  2  1  3  3  1  2  1\n1  2  1  1  1  1  2  1  1  1  1  2  1\n2  2  2  2  2  2  2  2  2  2  2  2  2\n1  2  1  1  1  1  2  1  1  1  1  2  1\n"
     ]
    }
   ],
   "source": [
    "# 13x13 tensor filled with ones\n",
    "m = torch.full((13, 13), 1, dtype=torch.int)\n",
    "\n",
    "# Rows of twos starting with second row, every five rows\n",
    "m[1::5, :] = 2\n",
    "# Columns of twos starting with second column, every five columns\n",
    "m[:, 1::5] = 2\n",
    "\n",
    "# 2x2 areas of threes at intersections of (fourth and fifth) and (ninth and tenth) rows and columns\n",
    "m[3:5, 3:5] = 3\n",
    "m[3:5, 8:10] = 3\n",
    "m[8:10, 3:5] = 3\n",
    "m[8:10, 8:10] = 3\n",
    "\n",
    "# Nice printing to match exercise statement\n",
    "print(tabulate.tabulate(m, tablefmt='plain'))"
   ]
  },
  {
   "source": [
    "## Eigendecomposition"
   ],
   "cell_type": "markdown",
   "metadata": {}
  },
  {
   "cell_type": "code",
   "execution_count": 10,
   "metadata": {},
   "outputs": [
    {
     "output_type": "stream",
     "name": "stdout",
     "text": [
      "      Re    Im\n--------  ----\n20           0\n 1           0\n19           0\n 1.99999     0\n18           0\n 3           0\n 4           0\n17           0\n 5           0\n16           0\n 6.00001     0\n 7           0\n15           0\n14           0\n13           0\n 8           0\n12           0\n11           0\n10           0\n 9           0\n"
     ]
    }
   ],
   "source": [
    "size = 20\n",
    "\n",
    "diag_m = torch.diag(torch.arange(1, size + 1, dtype=torch.float))\n",
    "gauss_m = torch.empty((size, size)).normal_()\n",
    "gauss_m_inv = torch.inverse(gauss_m)\n",
    "mat_mul_result = torch.mm(torch.mm(gauss_m_inv, diag_m), gauss_m)\n",
    "eig_result = torch.eig(mat_mul_result)\n",
    "\n",
    "print(tabulate.tabulate(eig_result.eigenvalues, headers=('Re', 'Im'), tablefmt='simple'))"
   ]
  },
  {
   "source": [
    "## Flops per second"
   ],
   "cell_type": "markdown",
   "metadata": {}
  },
  {
   "cell_type": "code",
   "execution_count": 11,
   "metadata": {},
   "outputs": [
    {
     "output_type": "stream",
     "name": "stdout",
     "text": [
      "1.530454e+11 FLOPS per second\n"
     ]
    }
   ],
   "source": [
    "size = 5000\n",
    "\n",
    "# Generate matrices\n",
    "m1 = torch.empty((size, size)).normal_()\n",
    "m2 = torch.empty((size, size)).normal_()\n",
    "\n",
    "# Record initial and final time for multiplication\n",
    "t0 = time.perf_counter()\n",
    "mm_result = torch.mm(m1, m2)\n",
    "t1 = time.perf_counter()\n",
    "\n",
    "# Matrix multipliciation takes (A_ncol * A_nrow * B_nrow) operations\n",
    "n_ops = size ** 3\n",
    "flops_s = n_ops / (t1 - t0)\n",
    "\n",
    "print(f'{flops_s:0.6e} FLOPS per second')"
   ]
  },
  {
   "source": [
    "## Playing with strides"
   ],
   "cell_type": "markdown",
   "metadata": {}
  },
  {
   "cell_type": "code",
   "execution_count": 12,
   "metadata": {},
   "outputs": [],
   "source": [
    "def mul_row(m):\n",
    "    result = m.clone()\n",
    "    size = m.size()\n",
    "    for i in range(size[0]):\n",
    "        for j in range(size[1]):\n",
    "            result[i, j] *= i + 1\n",
    "    return result\n",
    "\n",
    "def mul_row_fast(m):\n",
    "    return m.T.mul(torch.arange(1, m.size()[0] + 1)).T"
   ]
  },
  {
   "cell_type": "code",
   "execution_count": 13,
   "metadata": {},
   "outputs": [
    {
     "output_type": "stream",
     "name": "stdout",
     "text": [
      "`mul_row`: 7.769806643000038 [s]\ntensor([[   2.,    2.,    2.,  ...,    2.,    2.,    2.],\n        [   4.,    4.,    4.,  ...,    4.,    4.,    4.],\n        [   6.,    6.,    6.,  ...,    6.,    6.,    6.],\n        ...,\n        [1996., 1996., 1996.,  ..., 1996., 1996., 1996.],\n        [1998., 1998., 1998.,  ..., 1998., 1998., 1998.],\n        [2000., 2000., 2000.,  ..., 2000., 2000., 2000.]])\n`mul_row_fast`: 0.0010625009999785107 [s]\ntensor([[   2.,    2.,    2.,  ...,    2.,    2.,    2.],\n        [   4.,    4.,    4.,  ...,    4.,    4.,    4.],\n        [   6.,    6.,    6.,  ...,    6.,    6.,    6.],\n        ...,\n        [1996., 1996., 1996.,  ..., 1996., 1996., 1996.],\n        [1998., 1998., 1998.,  ..., 1998., 1998., 1998.],\n        [2000., 2000., 2000.,  ..., 2000., 2000., 2000.]])\n"
     ]
    }
   ],
   "source": [
    "m = torch.full((1000, 400), 2.0)\n",
    "\n",
    "t0 = time.perf_counter()\n",
    "mr = mul_row(m)\n",
    "t1 = time.perf_counter()\n",
    "\n",
    "print(f'`mul_row`: {t1 - t0} [s]\\n{mr}')\n",
    "\n",
    "t0 = time.perf_counter()\n",
    "mrf = mul_row_fast(m)\n",
    "t1 = time.perf_counter()\n",
    "\n",
    "print(f'`mul_row_fast`: {t1 - t0} [s]\\n{mrf}')"
   ]
  },
  {
   "cell_type": "code",
   "execution_count": null,
   "metadata": {},
   "outputs": [],
   "source": []
  }
 ]
}