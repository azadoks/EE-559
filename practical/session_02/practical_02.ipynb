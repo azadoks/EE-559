{
 "metadata": {
  "language_info": {
   "codemirror_mode": {
    "name": "ipython",
    "version": 3
   },
   "file_extension": ".py",
   "mimetype": "text/x-python",
   "name": "python",
   "nbconvert_exporter": "python",
   "pygments_lexer": "ipython3",
   "version": "3.7.9-final"
  },
  "orig_nbformat": 2,
  "kernelspec": {
   "name": "python3",
   "display_name": "Python 3.7.9 64-bit",
   "metadata": {
    "interpreter": {
     "hash": "aaa84ee533b690964f178989ab023a6f60be1f896694c6d986c0a3f23e05566a"
    }
   }
  }
 },
 "nbformat": 4,
 "nbformat_minor": 2,
 "cells": [
  {
   "cell_type": "code",
   "execution_count": 2,
   "metadata": {},
   "outputs": [],
   "source": [
    "import sys\n",
    "sys.path.append('../../')\n",
    "\n",
    "import torch\n",
    "from torch import Tensor\n",
    "# import dlc_practical_prologue as prologue"
   ]
  },
  {
   "cell_type": "code",
   "execution_count": 22,
   "metadata": {},
   "outputs": [],
   "source": [
    "def nearest_classification(train_input, train_target, x):\n",
    "    \"\"\"Return the class of the training sample which is the closest to `x` with the L2 norm.\n",
    "\n",
    "    :param train_input: 2D (n x d) float Tensor containing training vectors\n",
    "    :param train_target: 1D (n) Tensor containing training labels\n",
    "    :param x: 1D (d) float Tensor containing the test vector\n",
    "    :returns: the label from `train_target` for the `train_input` closest to `x` with the L2 norm\n",
    "    \"\"\"\n",
    "    dist = torch.sum((train_input - x).pow(2), dim=1).sqrt_()\n",
    "\n",
    "    return train_target[dist.argmin()]"
   ]
  },
  {
   "cell_type": "code",
   "execution_count": 37,
   "metadata": {},
   "outputs": [],
   "source": [
    "a = Tensor([\n",
    "    [1., 2.],\n",
    "    [3., 4.]\n",
    "])\n",
    "\n",
    "b = torch.empty((2, 5)).normal_()"
   ]
  },
  {
   "cell_type": "code",
   "execution_count": 45,
   "metadata": {},
   "outputs": [
    {
     "output_type": "execute_result",
     "data": {
      "text/plain": [
       "tensor([[ -3.1582,   1.7062,  -1.5750,   0.8940,  -5.8754],\n",
       "        [ -6.6623,   3.0237,  -1.9141,   2.8261, -12.1407]])"
      ]
     },
     "metadata": {},
     "execution_count": 45
    }
   ],
   "source": [
    "a.mm(b)"
   ]
  },
  {
   "cell_type": "code",
   "execution_count": 46,
   "metadata": {},
   "outputs": [],
   "source": [
    "train_in = Tensor([\n",
    "    [1., 2.],\n",
    "    [3., 4.]\n",
    "])\n",
    "\n",
    "test_in = Tensor([\n",
    "    [5., 6.],\n",
    "    [7., 8.]\n",
    "])"
   ]
  },
  {
   "cell_type": "code",
   "execution_count": 50,
   "metadata": {},
   "outputs": [
    {
     "output_type": "execute_result",
     "data": {
      "text/plain": [
       "tensor(0)"
      ]
     },
     "metadata": {},
     "execution_count": 50
    }
   ],
   "source": [
    "torch.sum(train_in == test_in)"
   ]
  },
  {
   "cell_type": "code",
   "execution_count": 51,
   "metadata": {},
   "outputs": [],
   "source": [
    "def compute_nb_errors(train_input, train_target, test_input, test_target,\n",
    "    mean=None, proj=None):\n",
    "    \"\"\"Return the number of classification errors using 1-nearest-neighbor analysis.\n",
    "\n",
    "    :param train_input: 2D (n x d) float Tensor containing training vectors\n",
    "    :param train_target: 1D (n) Tensor containing training labels\n",
    "    :param test_input: 2D (m x d) float Tensor containing test vectors\n",
    "    :param test_target: 1D (m) Tensor contianing test labels\n",
    "    :param mean: None or 1D (d) float Tensor\n",
    "    :param proj: None or 2D (c x d) float Tensor\n",
    "    :returns: number of classification errors\n",
    "    \"\"\"\n",
    "\n",
    "    if mean is not None:\n",
    "        train_input = train_input.sub(mean)\n",
    "        test_input = test_input.sub(mean)\n",
    "    \n",
    "    if proj is not None:\n",
    "        train_input = train_input.mm(proj)\n",
    "        test_input = test_input.mm(proj)\n",
    "\n",
    "    test_class = torch.empty(test_input.size())\n",
    "    for i, test_i in enumerate(test_input):\n",
    "        dist = torch.sum((train_input - test_i).pow(2), dim=1).sqrt_()\n",
    "        test_class[i] = train_target[dist.argmin()]\n",
    "\n",
    "    return torch.sum(test_class == test_target)"
   ]
  },
  {
   "cell_type": "code",
   "execution_count": 53,
   "metadata": {},
   "outputs": [
    {
     "output_type": "error",
     "ename": "NameError",
     "evalue": "name 'train_target' is not defined",
     "traceback": [
      "\u001b[0;31m---------------------------------------------------------------------------\u001b[0m",
      "\u001b[0;31mNameError\u001b[0m                                 Traceback (most recent call last)",
      "\u001b[0;32m<ipython-input-53-06af694e166c>\u001b[0m in \u001b[0;36m<module>\u001b[0;34m\u001b[0m\n\u001b[1;32m     12\u001b[0m \u001b[0;32mfor\u001b[0m \u001b[0mi\u001b[0m\u001b[0;34m,\u001b[0m \u001b[0mtest_i\u001b[0m \u001b[0;32min\u001b[0m \u001b[0menumerate\u001b[0m\u001b[0;34m(\u001b[0m\u001b[0mtest_in\u001b[0m\u001b[0;34m)\u001b[0m\u001b[0;34m:\u001b[0m\u001b[0;34m\u001b[0m\u001b[0;34m\u001b[0m\u001b[0m\n\u001b[1;32m     13\u001b[0m     \u001b[0mdist\u001b[0m \u001b[0;34m=\u001b[0m \u001b[0mtorch\u001b[0m\u001b[0;34m.\u001b[0m\u001b[0msum\u001b[0m\u001b[0;34m(\u001b[0m\u001b[0;34m(\u001b[0m\u001b[0mtrain_in\u001b[0m \u001b[0;34m-\u001b[0m \u001b[0mtest_i\u001b[0m\u001b[0;34m)\u001b[0m\u001b[0;34m.\u001b[0m\u001b[0mpow\u001b[0m\u001b[0;34m(\u001b[0m\u001b[0;36m2\u001b[0m\u001b[0;34m)\u001b[0m\u001b[0;34m,\u001b[0m \u001b[0mdim\u001b[0m\u001b[0;34m=\u001b[0m\u001b[0;36m1\u001b[0m\u001b[0;34m)\u001b[0m\u001b[0;34m.\u001b[0m\u001b[0msqrt_\u001b[0m\u001b[0;34m(\u001b[0m\u001b[0;34m)\u001b[0m\u001b[0;34m\u001b[0m\u001b[0;34m\u001b[0m\u001b[0m\n\u001b[0;32m---> 14\u001b[0;31m     \u001b[0mtest_class\u001b[0m\u001b[0;34m[\u001b[0m\u001b[0mi\u001b[0m\u001b[0;34m]\u001b[0m \u001b[0;34m=\u001b[0m \u001b[0mtrain_target\u001b[0m\u001b[0;34m[\u001b[0m\u001b[0mdist\u001b[0m\u001b[0;34m.\u001b[0m\u001b[0margmin\u001b[0m\u001b[0;34m(\u001b[0m\u001b[0;34m)\u001b[0m\u001b[0;34m]\u001b[0m\u001b[0;34m\u001b[0m\u001b[0;34m\u001b[0m\u001b[0m\n\u001b[0m",
      "\u001b[0;31mNameError\u001b[0m: name 'train_target' is not defined"
     ]
    }
   ],
   "source": [
    "train_in = Tensor([\n",
    "    [1., 2.],\n",
    "    [3., 4.]\n",
    "])\n",
    "\n",
    "test_in = Tensor([\n",
    "    [5., 6.],\n",
    "    [7., 8.]\n",
    "])\n",
    "\n",
    "test_class = torch.empty(test_.size())\n",
    "for i, test_i in enumerate(test_in):\n",
    "    dist = torch.sum((train_in - test_i).pow(2), dim=1).sqrt_()\n",
    "    test_class[i] = train_target[dist.argmin()]"
   ]
  },
  {
   "cell_type": "code",
   "execution_count": null,
   "metadata": {},
   "outputs": [],
   "source": []
  }
 ]
}