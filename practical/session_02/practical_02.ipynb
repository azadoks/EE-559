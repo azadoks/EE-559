{
 "metadata": {
  "language_info": {
   "codemirror_mode": {
    "name": "ipython",
    "version": 3
   },
   "file_extension": ".py",
   "mimetype": "text/x-python",
   "name": "python",
   "nbconvert_exporter": "python",
   "pygments_lexer": "ipython3",
   "version": "3.7.9-final"
  },
  "orig_nbformat": 2,
  "kernelspec": {
   "name": "python3",
   "display_name": "Python 3.7.9 64-bit ('ee-559': conda)",
   "metadata": {
    "interpreter": {
     "hash": "aaa84ee533b690964f178989ab023a6f60be1f896694c6d986c0a3f23e05566a"
    }
   }
  }
 },
 "nbformat": 4,
 "nbformat_minor": 2,
 "cells": [
  {
   "cell_type": "code",
   "execution_count": 1,
   "metadata": {},
   "outputs": [],
   "source": [
    "import sys\n",
    "sys.path.append('../')  # directory containing prologue\n",
    "\n",
    "import torch\n",
    "from torch import Tensor\n",
    "import prologue_jupyter  # currently not working with jupyter in VSCode"
   ]
  },
  {
   "cell_type": "code",
   "execution_count": 2,
   "metadata": {},
   "outputs": [],
   "source": [
    "SEED = 0\n",
    "if SEED >= 0:\n",
    "    torch.manual_seed(SEED)"
   ]
  },
  {
   "source": [
    "# Deep Learning Practical Session 2\n",
    "\n",
    "EE-559\n",
    "\n",
    "March 3, 2021\n",
    "\n",
    "Austin Zadoks"
   ],
   "cell_type": "markdown",
   "metadata": {}
  },
  {
   "source": [
    "## Nearest Neighbor"
   ],
   "cell_type": "markdown",
   "metadata": {}
  },
  {
   "cell_type": "code",
   "execution_count": 22,
   "metadata": {},
   "outputs": [],
   "source": [
    "def nearest_classification(train_input, train_target, x):\n",
    "    \"\"\"Return the class of the training sample which is the closest to `x` with the L2 norm.\n",
    "\n",
    "    :param train_input: 2D (n x d) float Tensor containing training vectors\n",
    "    :param train_target: 1D (n) Tensor containing training labels\n",
    "    :param x: 1D (d) float Tensor containing the test vector\n",
    "    :returns: the label from `train_target` for the `train_input` closest to `x` with the L2 norm\n",
    "    \"\"\"\n",
    "    dist = torch.sum((train_input - x).pow(2), dim=1).sqrt_()\n",
    "\n",
    "    return train_target[dist.argmin()]"
   ]
  },
  {
   "source": [
    "## Error estimation"
   ],
   "cell_type": "markdown",
   "metadata": {}
  },
  {
   "cell_type": "code",
   "execution_count": 51,
   "metadata": {},
   "outputs": [],
   "source": [
    "def compute_nb_errors(train_input, train_target, test_input, test_target,\n",
    "    mean=None, proj=None):\n",
    "    \"\"\"Return the number of classification errors using 1-nearest-neighbor analysis.\n",
    "\n",
    "    :param train_input: 2D (n x d) float Tensor containing training vectors\n",
    "    :param train_target: 1D (n) Tensor containing training labels\n",
    "    :param test_input: 2D (m x d) float Tensor containing test vectors\n",
    "    :param test_target: 1D (m) Tensor contianing test labels\n",
    "    :param mean: None or 1D (d) float Tensor\n",
    "    :param proj: None or 2D (c x d) float Tensor\n",
    "    :returns: number of classification errors\n",
    "    \"\"\"\n",
    "\n",
    "    if mean is not None:\n",
    "        train_input = train_input.sub(mean)\n",
    "        test_input = test_input.sub(mean)\n",
    "    \n",
    "    if proj is not None:\n",
    "        train_input = train_input.mm(proj)\n",
    "        test_input = test_input.mm(proj)\n",
    "\n",
    "    test_class = torch.empty(test_input.size())\n",
    "    for i, test_i in enumerate(test_input):\n",
    "        dist = torch.sum((train_input - test_i).pow(2), dim=1).sqrt_()\n",
    "        test_class[i] = train_target[dist.argmin()]\n",
    "\n",
    "    return torch.sum(test_class == test_target)"
   ]
  },
  {
   "source": [
    "## PCA"
   ],
   "cell_type": "markdown",
   "metadata": {}
  },
  {
   "source": [],
   "cell_type": "code",
   "metadata": {},
   "execution_count": null,
   "outputs": []
  },
  {
   "source": [
    "## Sanity check"
   ],
   "cell_type": "markdown",
   "metadata": {}
  },
  {
   "cell_type": "code",
   "execution_count": null,
   "metadata": {},
   "outputs": [],
   "source": []
  }
 ]
}